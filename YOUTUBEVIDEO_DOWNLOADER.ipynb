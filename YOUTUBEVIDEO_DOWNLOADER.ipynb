{
  "cells": [
    {
      "cell_type": "code",
      "execution_count": 9,
      "metadata": {
        "colab": {
          "base_uri": "https://localhost:8080/"
        },
        "id": "qol-u9GbZHaS",
        "outputId": "05ff6261-ce3d-48f2-cbb1-73f50a6a68ec"
      },
      "outputs": [],
      "source": [
        "#pip install pytube3"
      ]
    },
    {
      "cell_type": "code",
      "execution_count": 11,
      "metadata": {
        "colab": {
          "base_uri": "https://localhost:8080/"
        },
        "id": "hkZKEtQkam93",
        "outputId": "d1341db9-c187-45f6-a398-d2069f5c740e"
      },
      "outputs": [],
      "source": [
        "#pip install --upgrade pytube"
      ]
    },
    {
      "cell_type": "code",
      "execution_count": 10,
      "metadata": {
        "id": "0G6BMwLXZO_I"
      },
      "outputs": [],
      "source": [
        "from pytube import YouTube"
      ]
    },
    {
      "cell_type": "code",
      "execution_count": 12,
      "metadata": {
        "colab": {
          "base_uri": "https://localhost:8080/"
        },
        "id": "dxfdWXmmwLAl",
        "outputId": "adec247f-2d1e-4c39-b847-6e700067a04a"
      },
      "outputs": [],
      "source": [
        "#pip install yt-dlp"
      ]
    },
    {
      "cell_type": "code",
      "execution_count": 16,
      "metadata": {
        "colab": {
          "base_uri": "https://localhost:8080/"
        },
        "id": "ltsnDypwZYdv",
        "outputId": "9e8afe5a-b537-4241-ca71-bbe43fadcede"
      },
      "outputs": [],
      "source": [
        "link = input(\"Enter youtube video\")\n",
        "yt = YouTube(link)"
      ]
    },
    {
      "cell_type": "code",
      "execution_count": 17,
      "metadata": {
        "colab": {
          "base_uri": "https://localhost:8080/"
        },
        "id": "3sC3uq8OZ4Bg",
        "outputId": "6ad006ca-6578-4811-e84b-5a755654c859"
      },
      "outputs": [
        {
          "name": "stdout",
          "output_type": "stream",
          "text": [
            "Title : Generative AI for Build LLM Model Using Lama 3,Hugging Face & Ollama | NareshIT\n",
            "Views : 2459\n",
            "Duration : 8456\n",
            "Description : None\n",
            "Ratings : None\n"
          ]
        }
      ],
      "source": [
        "# To print title\n",
        "print(\"Title :\", yt.title)\n",
        "# To get number of views\n",
        "print(\"Views :\", yt.views)\n",
        "# To get the length of video\n",
        "print(\"Duration :\", yt.length)\n",
        "# To get description\n",
        "print(\"Description :\", yt.description)\n",
        "# To get ratings\n",
        "print(\"Ratings :\", yt.rating)"
      ]
    },
    {
      "cell_type": "code",
      "execution_count": 18,
      "metadata": {
        "colab": {
          "base_uri": "https://localhost:8080/"
        },
        "id": "tmZF-tThwRiv",
        "outputId": "c90ce9db-d9b9-4c1a-aca7-7034761d997c"
      },
      "outputs": [
        {
          "name": "stdout",
          "output_type": "stream",
          "text": [
            "Downloading...\n",
            "[youtube] Extracting URL: https://www.youtube.com/watch?v=eDN6fAWLNNE&t=5432s\n",
            "[youtube] eDN6fAWLNNE: Downloading webpage\n",
            "[youtube] eDN6fAWLNNE: Downloading ios player API JSON\n",
            "[youtube] eDN6fAWLNNE: Downloading web creator player API JSON\n",
            "[youtube] eDN6fAWLNNE: Downloading m3u8 information\n",
            "[info] eDN6fAWLNNE: Downloading 1 format(s): 18\n",
            "[download] Destination: Generative AI for Build LLM Model Using Lama 3,Hugging Face & Ollama ｜ NareshIT [eDN6fAWLNNE].mp4\n",
            "[download] 100% of  190.53MiB in 00:00:27 at 6.98MiB/s     \n",
            "Download completed.\n"
          ]
        }
      ],
      "source": [
        "from yt_dlp import YoutubeDL\n",
        "\n",
        "download_option = input(\"Do you want to download this video? (yes/no): \").lower()\n",
        "\n",
        "if download_option == \"yes\":\n",
        "    url = 'https://www.youtube.com/watch?v=eDN6fAWLNNE&t=5432s'\n",
        "    ydl_opts = {'format': 'best'}\n",
        "    with YoutubeDL(ydl_opts) as ydl:\n",
        "        print(\"Downloading...\")\n",
        "        ydl.download([url])\n",
        "        print(\"Download completed.\")\n",
        "else:\n",
        "    print(\"Download aborted.\")\n"
      ]
    }
  ],
  "metadata": {
    "colab": {
      "provenance": []
    },
    "kernelspec": {
      "display_name": "Python 3",
      "name": "python3"
    },
    "language_info": {
      "codemirror_mode": {
        "name": "ipython",
        "version": 3
      },
      "file_extension": ".py",
      "mimetype": "text/x-python",
      "name": "python",
      "nbconvert_exporter": "python",
      "pygments_lexer": "ipython3",
      "version": "3.9.7"
    }
  },
  "nbformat": 4,
  "nbformat_minor": 0
}
